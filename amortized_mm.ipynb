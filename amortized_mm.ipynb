{
 "cells": [
  {
   "cell_type": "markdown",
   "id": "b1e76487-4c02-4ba0-910b-16c6d0b11d56",
   "metadata": {},
   "source": [
    "## BUGS\n",
    "\n",
    "## TODO\n",
    "- work on MixtureParamsMLP to output the right dimensions \n",
    "- how to print out trace for pi\n",
    "\n",
    "## Resources\n",
    "- [Tutorial on to_event and .expand()](https://bochang.me/blog/posts/pytorch-distributions/)\n",
    "- [Event, Batch, Sample shapes](https://ericmjl.github.io/blog/2019/5/29/reasoning-about-shapes-and-probability-distributions/)"
   ]
  },
  {
   "cell_type": "code",
   "execution_count": 1,
   "id": "fa519fae-037a-4151-a476-b367569a8763",
   "metadata": {},
   "outputs": [],
   "source": [
    "import numpy as np\n",
    "import time\n",
    "\n",
    "import pyro\n",
    "from pyro.distributions import *\n",
    "from pyro.infer import Predictive, SVI, Trace_ELBO\n",
    "from pyro.optim import Adam\n",
    "from pyro.nn import PyroModule\n",
    "\n",
    "import torch\n",
    "import torch.nn as nn\n",
    "\n",
    "import matplotlib.pyplot as plt\n",
    "%matplotlib inline\n",
    "\n",
    "from tabulate import tabulate"
   ]
  },
  {
   "cell_type": "code",
   "execution_count": 2,
   "id": "4ad8c112-8db7-4a81-a0b7-6830ff06eb68",
   "metadata": {},
   "outputs": [
    {
     "data": {
      "image/png": "[encoded data removed]",
      "text/plain": [
       "<Figure size 432x288 with 1 Axes>"
      ]
     },
     "metadata": {
      "needs_background": "light"
     },
     "output_type": "display_data"
    }
   ],
   "source": [
    "N = 500  # number of data points\n",
    "M = 2  # number of features\n",
    "T = 5  # Fixed number of components.\n",
    "\n",
    "cov = np.identity(M)  # covariance matrix is just the identity for now\n",
    "\n",
    "# generate data\n",
    "clust1 = np.random.multivariate_normal(np.zeros(M), cov, 100)\n",
    "clust2 = np.random.multivariate_normal(np.ones(M)*5, cov, 100)\n",
    "clust3 = np.random.multivariate_normal(np.ones(M)*-5, cov, 100)\n",
    "clust4 = np.random.multivariate_normal([5, -5], cov, 100)\n",
    "clust5 = np.random.multivariate_normal([-5, 5], cov, 100)\n",
    "data = np.concatenate((clust1, clust2, clust3, clust4, clust5))\n",
    "\n",
    "plt.scatter(data[:,0], data[:,1])\n",
    "plt.grid()\n",
    "\n",
    "data = torch.from_numpy(data).float()  # convert numpy to torch"
   ]
  },
  {
   "cell_type": "code",
   "execution_count": 3,
   "id": "3f593591-8410-402a-9bd8-0af7d9a4500e",
   "metadata": {},
   "outputs": [],
   "source": [
    "class MixtureMLP(PyroModule):\n",
    "  '''\n",
    "    PointNet inspired nn architecture for permutation invariance\n",
    "    GitHub repo: https://github.com/fxia22/pointnet.pytorch/blob/f0c2430b0b1529e3f76fb5d6cd6ca14be763d975/pointnet/model.py#L11\n",
    "    Paper: https://arxiv.org/pdf/1612.00593.pdf\n",
    "  '''\n",
    "  def __init__(self, output_size, M):\n",
    "    super().__init__()\n",
    "    \n",
    "    self.output_size = output_size\n",
    "    self.M = M\n",
    "    \n",
    "    self.t_net = nn.Sequential(\n",
    "        nn.Conv1d(self.M, 8, 1),\n",
    "        nn.BatchNorm1d(8),\n",
    "        nn.ReLU(),\n",
    "        \n",
    "        nn.Conv1d(8, 16, 1),\n",
    "        nn.BatchNorm1d(16),\n",
    "        nn.ReLU(),\n",
    "        \n",
    "        nn.Conv1d(16, 32, 1),\n",
    "        nn.BatchNorm1d(32),\n",
    "        nn.ReLU()\n",
    "    )\n",
    "    \n",
    "    self.fully_connected = nn.Sequential(\n",
    "        nn.Linear(32, 16),\n",
    "        # nn.BatchNorm1d(512),  # don't need batchnorm for only 1 batch\n",
    "        nn.ReLU(),\n",
    "        \n",
    "        nn.Linear(16, 8),\n",
    "        # nn.BatchNorm1d(256),\n",
    "        nn.ReLU(),\n",
    "        \n",
    "        nn.Linear(8, self.output_size)\n",
    "    )\n",
    "    \n",
    "    self.softmax = nn.Softmax(1)\n",
    "    \n",
    "\n",
    "  def forward(self, x):\n",
    "    x = self.t_net(x[None,:,:])\n",
    "    x = torch.max(x, 2, keepdim=True)[0]  # maxpooling layer\n",
    "    x = x.view(-1, 32)\n",
    "    \n",
    "    x = self.fully_connected(x)\n",
    "    \n",
    "    x = self.softmax(x)        \n",
    "        \n",
    "    return x.squeeze()  # remove any 1-d axes"
   ]
  },
  {
   "cell_type": "code",
   "execution_count": 4,
   "id": "664360d8-2a33-4f51-b025-a75dc061de2a",
   "metadata": {},
   "outputs": [],
   "source": [
    "def model(data, step):\n",
    "    # global variables\n",
    "    alpha = torch.ones(T)\n",
    "    weights = pyro.sample('weights', Dirichlet(alpha))\n",
    "    \n",
    "    with pyro.plate('components', T):\n",
    "        locs = pyro.sample('locs', MultivariateNormal(torch.zeros(M), torch.eye(M)))\n",
    "\n",
    "    # local variables\n",
    "    with pyro.plate('data', N):\n",
    "        assignment = pyro.sample('assignments', Categorical(weights))\n",
    "        pyro.sample('obs', MultivariateNormal(locs[assignment], torch.eye(M)), obs=data)\n",
    "        \n",
    "def guide(data, step):\n",
    "    # amortize using MLP\n",
    "    pyro.module('alpha_mlp', alpha_mlp)\n",
    "    pyro.module('tau_mlp', tau_mlp)\n",
    "    \n",
    "    # sample mixture components mu\n",
    "    tau = tau_mlp(data.permute(1,0).float())\n",
    "    tau = tau.view(5,2)  # reshape tensor\n",
    "    \n",
    "    with pyro.plate('components', T):\n",
    "        locs = pyro.sample('locs', MultivariateNormal(tau, torch.eye(M)))\n",
    "    \n",
    "    # sample cluster assignments\n",
    "    alpha = alpha_mlp(data.permute(1,0).float()) # returns a vector of length T\n",
    "    weights = pyro.sample('weights', Dirichlet(alpha))  # vector of length T\n",
    "    with pyro.iarange('data', N):\n",
    "        assignments = pyro.sample('assignments', Categorical(weights))\n",
    "    \n",
    "    if step % 1000 == 0:\n",
    "        weight_data = [weights[i] for i in range(len(weights))]\n",
    "        weight_data.insert(0, 'props')\n",
    "\n",
    "        mu1_data = [locs[i,0] for i in range(locs.shape[0])]\n",
    "        mu1_data.insert(0, 'mu1')\n",
    "\n",
    "        mu2_data = [locs[i,1] for i in range(locs.shape[0])]\n",
    "        mu2_data.insert(0, 'mu2')\n",
    "        \n",
    "        data = [weight_data, mu1_data, mu2_data]\n",
    "        \n",
    "        print(tabulate(data, headers=['', 'clust1', 'clust2', 'clust3', 'clust4', 'clust5']))"
   ]
  },
  {
   "cell_type": "code",
   "execution_count": 5,
   "id": "be3c7aad-8e1f-4141-ad93-8c3e786cacc2",
   "metadata": {},
   "outputs": [],
   "source": [
    "def print_progress(step):\n",
    "    print('='*10, 'Iteration {}'.format(step), '='*10)"
   ]
  },
  {
   "cell_type": "code",
   "execution_count": 6,
   "id": "90473e97-55ef-4fb3-92f7-c114746095d7",
   "metadata": {},
   "outputs": [
    {
     "name": "stdout",
     "output_type": "stream",
     "text": [
      "           clust1        clust2     clust3     clust4      clust5\n",
      "-----  ----------  ------------  ---------  ---------  ----------\n",
      "props   0.160393    2.40142e-06  0.38463     0.44983   0.00514494\n",
      "mu1    -0.0352741  -0.0303056    0.0223589   0.593577  2.56889\n",
      "mu2    -0.386329   -0.0546699    0.0557752  -1.2554    1.09397\n",
      "========== Iteration 0 ==========\n",
      "took 0.08300209045410156 seconds\n",
      "          clust1     clust2      clust3       clust4     clust5\n",
      "-----  ---------  ---------  ----------  -----------  ---------\n",
      "props   0.804807  0.0539577   0.0842285   0.00820202   0.048805\n",
      "mu1     1.42831   0.705838   -0.0486704  -1.19945      0.41409\n",
      "mu2    -1.52388   0.822966    0.777647    1.3977      -0.375734\n",
      "========== Iteration 1000 ==========\n",
      "took 44.939998149871826 seconds\n",
      "            clust1    clust2        clust3      clust4        clust5\n",
      "-----  -----------  --------  ------------  ----------  ------------\n",
      "props  0.000563404  0.97921    2.39678e-06   0.0199332   0.000290905\n",
      "mu1    0.419886     0.20747   -0.011319      0.869606    1.63468\n",
      "mu2    0.16637      0.341275  -1.18034      -0.408797   -0.295191\n",
      "========== Iteration 2000 ==========\n",
      "took 36.8078408241272 seconds\n"
     ]
    }
   ],
   "source": [
    "alpha_mlp = MixtureMLP(T, M).float()  # variational parameters for mixture proportions pi\n",
    "tau_mlp = MixtureMLP(T*M, M).float() \n",
    "\n",
    "adam_params = {\"lr\": 0.0001}\n",
    "optimizer = Adam(adam_params)\n",
    "svi = SVI(model, guide, optimizer, loss=Trace_ELBO())\n",
    "\n",
    "n_steps = 25000\n",
    "start = time.time()\n",
    "for step in range(n_steps):\n",
    "  svi.step(data, step)\n",
    "  pyro.get_param_store()\n",
    "  if step % 1000 == 0:\n",
    "        end = time.time()\n",
    "        print_progress(step)\n",
    "        print('took', end-start, 'seconds')\n",
    "        start = time.time()"
   ]
  }
 ],
 "metadata": {
  "kernelspec": {
   "display_name": "cpsc532w",
   "language": "python",
   "name": "cpsc532w"
  },
  "language_info": {
   "codemirror_mode": {
    "name": "ipython",
    "version": 3
   },
   "file_extension": ".py",
   "mimetype": "text/x-python",
   "name": "python",
   "nbconvert_exporter": "python",
   "pygments_lexer": "ipython3",
   "version": "3.8.11"
  }
 },
 "nbformat": 4,
 "nbformat_minor": 5
}
