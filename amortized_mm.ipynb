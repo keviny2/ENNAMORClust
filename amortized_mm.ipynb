{
 "cells": [
  {
   "cell_type": "markdown",
   "id": "b1e76487-4c02-4ba0-910b-16c6d0b11d56",
   "metadata": {},
   "source": [
    "## BUGS\n",
    "\n",
    "## TODO\n",
    "- work on MixtureParamsMLP to output the right dimensions \n",
    "- how to print out trace for pi"
   ]
  },
  {
   "cell_type": "code",
   "execution_count": 1,
   "id": "fa519fae-037a-4151-a476-b367569a8763",
   "metadata": {},
   "outputs": [],
   "source": [
    "import numpy as np\n",
    "import time\n",
    "\n",
    "import pyro\n",
    "from pyro.distributions import *\n",
    "from pyro.infer import Predictive, SVI, Trace_ELBO\n",
    "from pyro.optim import Adam\n",
    "from pyro.nn import PyroModule\n",
    "\n",
    "import torch\n",
    "import torch.nn as nn\n",
    "\n",
    "import matplotlib.pyplot as plt\n",
    "%matplotlib inline"
   ]
  },
  {
   "cell_type": "code",
   "execution_count": 2,
   "id": "4ad8c112-8db7-4a81-a0b7-6830ff06eb68",
   "metadata": {},
   "outputs": [
    {
     "data": {
      "image/png": "[encoded data removed]",
      "text/plain": [
       "<Figure size 432x288 with 1 Axes>"
      ]
     },
     "metadata": {
      "needs_background": "light"
     },
     "output_type": "display_data"
    }
   ],
   "source": [
    "N = 500  # number of data points\n",
    "M = 2  # number of features\n",
    "T = 5  # Fixed number of components.\n",
    "\n",
    "cov = np.identity(M)  # covariance matrix is just the identity for now\n",
    "\n",
    "# generate data\n",
    "clust1 = np.random.multivariate_normal(np.zeros(M), cov, 100)\n",
    "clust2 = np.random.multivariate_normal(np.ones(M)*5, cov, 100)\n",
    "clust3 = np.random.multivariate_normal(np.ones(M)*-5, cov, 100)\n",
    "clust4 = np.random.multivariate_normal([5, -5], cov, 100)\n",
    "clust5 = np.random.multivariate_normal([-5, 5], cov, 100)\n",
    "data = np.concatenate((clust1, clust2, clust3, clust4, clust5))\n",
    "\n",
    "plt.scatter(data[:,0], data[:,1])\n",
    "plt.grid()\n",
    "\n",
    "data = torch.from_numpy(data).float()  # convert numpy to torch"
   ]
  },
  {
   "cell_type": "code",
   "execution_count": 3,
   "id": "3f593591-8410-402a-9bd8-0af7d9a4500e",
   "metadata": {},
   "outputs": [],
   "source": [
    "class MixtureMLP(PyroModule):\n",
    "  '''\n",
    "    PointNet inspired nn architecture for permutation invariance\n",
    "    GitHub repo: https://github.com/fxia22/pointnet.pytorch/blob/f0c2430b0b1529e3f76fb5d6cd6ca14be763d975/pointnet/model.py#L11\n",
    "    Paper: https://arxiv.org/pdf/1612.00593.pdf\n",
    "  '''\n",
    "  def __init__(self, output_size, M, softmax=True):\n",
    "    super().__init__()\n",
    "    \n",
    "    self.output_size = output_size\n",
    "    self.M = M\n",
    "    \n",
    "    self.t_net = nn.Sequential(\n",
    "        nn.Conv1d(self.M, 64, 1),\n",
    "        nn.BatchNorm1d(64),\n",
    "        nn.ReLU(),\n",
    "        \n",
    "        nn.Conv1d(64, 128, 1),\n",
    "        nn.BatchNorm1d(128),\n",
    "        nn.ReLU(),\n",
    "        \n",
    "        nn.Conv1d(128, 1024, 1),\n",
    "        nn.BatchNorm1d(1024),\n",
    "        nn.ReLU()\n",
    "    )\n",
    "    \n",
    "    self.fully_connected = nn.Sequential(\n",
    "        nn.Linear(1024, 512),\n",
    "        # nn.BatchNorm1d(512),  # don't need batchnorm for only 1 batch\n",
    "        nn.ReLU(),\n",
    "        \n",
    "        nn.Linear(512, 256),\n",
    "        # nn.BatchNorm1d(256),\n",
    "        nn.ReLU(),\n",
    "        \n",
    "        nn.Linear(256, self.output_size)\n",
    "    )\n",
    "    \n",
    "    self.softmax = nn.Softmax(1)\n",
    "\n",
    "  def forward(self, x):\n",
    "    x = self.t_net(x[None,:,:])\n",
    "    x = torch.max(x, 2, keepdim=True)[0]  # maxpooling layer\n",
    "    x = x.view(-1, 1024)\n",
    "    \n",
    "    x = self.fully_connected(x)\n",
    "    \n",
    "    if self.softmax:\n",
    "        x = self.softmax(x)        \n",
    "        \n",
    "    return x.squeeze()  # remove any 1-d axes"
   ]
  },
  {
   "cell_type": "code",
   "execution_count": 4,
   "id": "664360d8-2a33-4f51-b025-a75dc061de2a",
   "metadata": {},
   "outputs": [],
   "source": [
    "def model(data):\n",
    "    # global variables\n",
    "    alpha = torch.ones(T)\n",
    "    weights = pyro.sample('weights', Dirichlet(alpha))\n",
    "    \n",
    "    # locs = None\n",
    "    with pyro.plate('components', T):\n",
    "        locs = pyro.sample('locs', MultivariateNormal(torch.zeros(M), torch.eye(M)))\n",
    "        # locs = curr\n",
    "        \n",
    "    # locs = pyro.sample('locs', MultivariateNormal(torch.zeros(T, M), torch.eye(M)))\n",
    "    print('model locs', locs)\n",
    "    print('model locs shape', locs.shape)\n",
    "\n",
    "    # local variables\n",
    "    with pyro.plate('data', N):\n",
    "        assignment = pyro.sample('assignment', Categorical(weights))\n",
    "        pyro.sample('obs', MultivariateNormal(locs[assignment], torch.eye(M)), obs=data)\n",
    "    # assignments = pyro.sample('assignments', Categorical(weights).expand([N]).independent(1))\n",
    "    # for i in pyro.plate('data', N):\n",
    "    #     pyro.sample('obs_{}'.format(i), MultivariateNormal(locs[assignments[i]], torch.eye(M)), obs=data[i])\n",
    "        \n",
    "    # with pyro.plate('data', N):\n",
    "    #     # Local variables.\n",
    "    #     assignments = pyro.sample('assignments', Categorical(weights)) # returns a vector of length T\n",
    "    #     obs = pyro.sample('obs', MultivariateNormal(locs[assignments], torch.eye(M)), obs=data)\n",
    "        \n",
    "def guide(data):\n",
    "    # amortize using MLP\n",
    "    pyro.module('alpha_mlp', alpha_mlp)\n",
    "    pyro.module('tau_mlp', tau_mlp)\n",
    "    \n",
    "    # sample mixture components mu\n",
    "    tau = tau_mlp(data.permute(1,0).float())\n",
    "    tau = tau.view(5,2)  # reshape tensor\n",
    "    print('guide tau', tau)\n",
    "    print('guide tau.shape', tau.shape)\n",
    "    \n",
    "    pyro.sample('locs', MultivariateNormal(tau, torch.eye(M)))\n",
    "    \n",
    "    # for i in pyro.plate('components', T):\n",
    "    #     pyro.sample('locs_{}'.format(i), MultivariateNormal(tau[i], torch.eye(M)))\n",
    "    \n",
    "    # sample cluster assignments\n",
    "    alpha = alpha_mlp(data.permute(1,0).float()) # returns a vector of length T\n",
    "    weights = pyro.sample('weights', Dirichlet(alpha))  # vector of length T\n",
    "    with pyro.iarange('data', N):\n",
    "        pyro.sample('assignment', Categorical(weights))"
   ]
  },
  {
   "cell_type": "code",
   "execution_count": 5,
   "id": "be3c7aad-8e1f-4141-ad93-8c3e786cacc2",
   "metadata": {},
   "outputs": [],
   "source": [
    "def print_progress(step):\n",
    "    print('='*10, 'Iteration {}'.format(step), '='*10)\n",
    "    tau = pyro.param('tau')\n",
    "    # weights = pyro.param('weights')\n",
    "    \n",
    "\n",
    "    print('tau is', tau)\n",
    "    # print('weights is', weights)"
   ]
  },
  {
   "cell_type": "code",
   "execution_count": 6,
   "id": "90473e97-55ef-4fb3-92f7-c114746095d7",
   "metadata": {},
   "outputs": [
    {
     "name": "stdout",
     "output_type": "stream",
     "text": [
      "guide tau tensor([[0.1181, 0.1316],\n",
      "        [0.0751, 0.1187],\n",
      "        [0.0593, 0.1048],\n",
      "        [0.0972, 0.0997],\n",
      "        [0.1229, 0.0727]], grad_fn=<ViewBackward>)\n",
      "guide tau.shape torch.Size([5, 2])\n",
      "model locs tensor([[-0.4795,  0.0434],\n",
      "        [ 0.3450, -1.3360],\n",
      "        [-0.8174, -0.1952],\n",
      "        [-0.5978,  0.5593],\n",
      "        [-0.4370, -0.1991]], grad_fn=<AddBackward0>)\n",
      "model locs shape torch.Size([5, 2])\n"
     ]
    },
    {
     "ename": "ValueError",
     "evalue": "at site \"locs\", invalid log_prob shape\n  Expected [], actual [5]\n  Try one of the following fixes:\n  - enclose the batched tensor in a with pyro.plate(...): context\n  - .to_event(...) the distribution being sampled\n  - .permute() data dimensions",
     "output_type": "error",
     "traceback": [
      "\u001b[1;31m---------------------------------------------------------------------------\u001b[0m",
      "\u001b[1;31mValueError\u001b[0m                                Traceback (most recent call last)",
      "\u001b[1;32m<ipython-input-6-b484c1c4ca3d>\u001b[0m in \u001b[0;36m<module>\u001b[1;34m\u001b[0m\n\u001b[0;32m      9\u001b[0m \u001b[0mstart\u001b[0m \u001b[1;33m=\u001b[0m \u001b[0mtime\u001b[0m\u001b[1;33m.\u001b[0m\u001b[0mtime\u001b[0m\u001b[1;33m(\u001b[0m\u001b[1;33m)\u001b[0m\u001b[1;33m\u001b[0m\u001b[1;33m\u001b[0m\u001b[0m\n\u001b[0;32m     10\u001b[0m \u001b[1;32mfor\u001b[0m \u001b[0mstep\u001b[0m \u001b[1;32min\u001b[0m \u001b[0mrange\u001b[0m\u001b[1;33m(\u001b[0m\u001b[0mn_steps\u001b[0m\u001b[1;33m)\u001b[0m\u001b[1;33m:\u001b[0m\u001b[1;33m\u001b[0m\u001b[1;33m\u001b[0m\u001b[0m\n\u001b[1;32m---> 11\u001b[1;33m   \u001b[0msvi\u001b[0m\u001b[1;33m.\u001b[0m\u001b[0mstep\u001b[0m\u001b[1;33m(\u001b[0m\u001b[0mdata\u001b[0m\u001b[1;33m)\u001b[0m\u001b[1;33m\u001b[0m\u001b[1;33m\u001b[0m\u001b[0m\n\u001b[0m\u001b[0;32m     12\u001b[0m   \u001b[0mpyro\u001b[0m\u001b[1;33m.\u001b[0m\u001b[0mget_param_store\u001b[0m\u001b[1;33m(\u001b[0m\u001b[1;33m)\u001b[0m\u001b[1;33m\u001b[0m\u001b[1;33m\u001b[0m\u001b[0m\n\u001b[0;32m     13\u001b[0m   \u001b[1;32mif\u001b[0m \u001b[0mstep\u001b[0m \u001b[1;33m%\u001b[0m \u001b[1;36m100\u001b[0m \u001b[1;33m==\u001b[0m \u001b[1;36m0\u001b[0m\u001b[1;33m:\u001b[0m\u001b[1;33m\u001b[0m\u001b[1;33m\u001b[0m\u001b[0m\n",
      "\u001b[1;32m~\\miniconda3\\envs\\cpsc532w\\lib\\site-packages\\pyro\\infer\\svi.py\u001b[0m in \u001b[0;36mstep\u001b[1;34m(self, *args, **kwargs)\u001b[0m\n\u001b[0;32m    143\u001b[0m         \u001b[1;31m# get loss and compute gradients\u001b[0m\u001b[1;33m\u001b[0m\u001b[1;33m\u001b[0m\u001b[1;33m\u001b[0m\u001b[0m\n\u001b[0;32m    144\u001b[0m         \u001b[1;32mwith\u001b[0m \u001b[0mpoutine\u001b[0m\u001b[1;33m.\u001b[0m\u001b[0mtrace\u001b[0m\u001b[1;33m(\u001b[0m\u001b[0mparam_only\u001b[0m\u001b[1;33m=\u001b[0m\u001b[1;32mTrue\u001b[0m\u001b[1;33m)\u001b[0m \u001b[1;32mas\u001b[0m \u001b[0mparam_capture\u001b[0m\u001b[1;33m:\u001b[0m\u001b[1;33m\u001b[0m\u001b[1;33m\u001b[0m\u001b[0m\n\u001b[1;32m--> 145\u001b[1;33m             \u001b[0mloss\u001b[0m \u001b[1;33m=\u001b[0m \u001b[0mself\u001b[0m\u001b[1;33m.\u001b[0m\u001b[0mloss_and_grads\u001b[0m\u001b[1;33m(\u001b[0m\u001b[0mself\u001b[0m\u001b[1;33m.\u001b[0m\u001b[0mmodel\u001b[0m\u001b[1;33m,\u001b[0m \u001b[0mself\u001b[0m\u001b[1;33m.\u001b[0m\u001b[0mguide\u001b[0m\u001b[1;33m,\u001b[0m \u001b[1;33m*\u001b[0m\u001b[0margs\u001b[0m\u001b[1;33m,\u001b[0m \u001b[1;33m**\u001b[0m\u001b[0mkwargs\u001b[0m\u001b[1;33m)\u001b[0m\u001b[1;33m\u001b[0m\u001b[1;33m\u001b[0m\u001b[0m\n\u001b[0m\u001b[0;32m    146\u001b[0m \u001b[1;33m\u001b[0m\u001b[0m\n\u001b[0;32m    147\u001b[0m         params = set(\n",
      "\u001b[1;32m~\\miniconda3\\envs\\cpsc532w\\lib\\site-packages\\pyro\\infer\\trace_elbo.py\u001b[0m in \u001b[0;36mloss_and_grads\u001b[1;34m(self, model, guide, *args, **kwargs)\u001b[0m\n\u001b[0;32m    138\u001b[0m         \u001b[0mloss\u001b[0m \u001b[1;33m=\u001b[0m \u001b[1;36m0.0\u001b[0m\u001b[1;33m\u001b[0m\u001b[1;33m\u001b[0m\u001b[0m\n\u001b[0;32m    139\u001b[0m         \u001b[1;31m# grab a trace from the generator\u001b[0m\u001b[1;33m\u001b[0m\u001b[1;33m\u001b[0m\u001b[1;33m\u001b[0m\u001b[0m\n\u001b[1;32m--> 140\u001b[1;33m         \u001b[1;32mfor\u001b[0m \u001b[0mmodel_trace\u001b[0m\u001b[1;33m,\u001b[0m \u001b[0mguide_trace\u001b[0m \u001b[1;32min\u001b[0m \u001b[0mself\u001b[0m\u001b[1;33m.\u001b[0m\u001b[0m_get_traces\u001b[0m\u001b[1;33m(\u001b[0m\u001b[0mmodel\u001b[0m\u001b[1;33m,\u001b[0m \u001b[0mguide\u001b[0m\u001b[1;33m,\u001b[0m \u001b[0margs\u001b[0m\u001b[1;33m,\u001b[0m \u001b[0mkwargs\u001b[0m\u001b[1;33m)\u001b[0m\u001b[1;33m:\u001b[0m\u001b[1;33m\u001b[0m\u001b[1;33m\u001b[0m\u001b[0m\n\u001b[0m\u001b[0;32m    141\u001b[0m             loss_particle, surrogate_loss_particle = self._differentiable_loss_particle(\n\u001b[0;32m    142\u001b[0m                 \u001b[0mmodel_trace\u001b[0m\u001b[1;33m,\u001b[0m \u001b[0mguide_trace\u001b[0m\u001b[1;33m\u001b[0m\u001b[1;33m\u001b[0m\u001b[0m\n",
      "\u001b[1;32m~\\miniconda3\\envs\\cpsc532w\\lib\\site-packages\\pyro\\infer\\elbo.py\u001b[0m in \u001b[0;36m_get_traces\u001b[1;34m(self, model, guide, args, kwargs)\u001b[0m\n\u001b[0;32m    184\u001b[0m         \u001b[1;32melse\u001b[0m\u001b[1;33m:\u001b[0m\u001b[1;33m\u001b[0m\u001b[1;33m\u001b[0m\u001b[0m\n\u001b[0;32m    185\u001b[0m             \u001b[1;32mfor\u001b[0m \u001b[0mi\u001b[0m \u001b[1;32min\u001b[0m \u001b[0mrange\u001b[0m\u001b[1;33m(\u001b[0m\u001b[0mself\u001b[0m\u001b[1;33m.\u001b[0m\u001b[0mnum_particles\u001b[0m\u001b[1;33m)\u001b[0m\u001b[1;33m:\u001b[0m\u001b[1;33m\u001b[0m\u001b[1;33m\u001b[0m\u001b[0m\n\u001b[1;32m--> 186\u001b[1;33m                 \u001b[1;32myield\u001b[0m \u001b[0mself\u001b[0m\u001b[1;33m.\u001b[0m\u001b[0m_get_trace\u001b[0m\u001b[1;33m(\u001b[0m\u001b[0mmodel\u001b[0m\u001b[1;33m,\u001b[0m \u001b[0mguide\u001b[0m\u001b[1;33m,\u001b[0m \u001b[0margs\u001b[0m\u001b[1;33m,\u001b[0m \u001b[0mkwargs\u001b[0m\u001b[1;33m)\u001b[0m\u001b[1;33m\u001b[0m\u001b[1;33m\u001b[0m\u001b[0m\n\u001b[0m",
      "\u001b[1;32m~\\miniconda3\\envs\\cpsc532w\\lib\\site-packages\\pyro\\infer\\trace_elbo.py\u001b[0m in \u001b[0;36m_get_trace\u001b[1;34m(self, model, guide, args, kwargs)\u001b[0m\n\u001b[0;32m     55\u001b[0m         \u001b[0magainst\u001b[0m \u001b[0mit\u001b[0m\u001b[1;33m.\u001b[0m\u001b[1;33m\u001b[0m\u001b[1;33m\u001b[0m\u001b[0m\n\u001b[0;32m     56\u001b[0m         \"\"\"\n\u001b[1;32m---> 57\u001b[1;33m         model_trace, guide_trace = get_importance_trace(\n\u001b[0m\u001b[0;32m     58\u001b[0m             \u001b[1;34m\"flat\"\u001b[0m\u001b[1;33m,\u001b[0m \u001b[0mself\u001b[0m\u001b[1;33m.\u001b[0m\u001b[0mmax_plate_nesting\u001b[0m\u001b[1;33m,\u001b[0m \u001b[0mmodel\u001b[0m\u001b[1;33m,\u001b[0m \u001b[0mguide\u001b[0m\u001b[1;33m,\u001b[0m \u001b[0margs\u001b[0m\u001b[1;33m,\u001b[0m \u001b[0mkwargs\u001b[0m\u001b[1;33m\u001b[0m\u001b[1;33m\u001b[0m\u001b[0m\n\u001b[0;32m     59\u001b[0m         )\n",
      "\u001b[1;32m~\\miniconda3\\envs\\cpsc532w\\lib\\site-packages\\pyro\\infer\\enum.py\u001b[0m in \u001b[0;36mget_importance_trace\u001b[1;34m(graph_type, max_plate_nesting, model, guide, args, kwargs, detach)\u001b[0m\n\u001b[0;32m     70\u001b[0m         \u001b[1;32mfor\u001b[0m \u001b[0msite\u001b[0m \u001b[1;32min\u001b[0m \u001b[0mguide_trace\u001b[0m\u001b[1;33m.\u001b[0m\u001b[0mnodes\u001b[0m\u001b[1;33m.\u001b[0m\u001b[0mvalues\u001b[0m\u001b[1;33m(\u001b[0m\u001b[1;33m)\u001b[0m\u001b[1;33m:\u001b[0m\u001b[1;33m\u001b[0m\u001b[1;33m\u001b[0m\u001b[0m\n\u001b[0;32m     71\u001b[0m             \u001b[1;32mif\u001b[0m \u001b[0msite\u001b[0m\u001b[1;33m[\u001b[0m\u001b[1;34m\"type\"\u001b[0m\u001b[1;33m]\u001b[0m \u001b[1;33m==\u001b[0m \u001b[1;34m\"sample\"\u001b[0m\u001b[1;33m:\u001b[0m\u001b[1;33m\u001b[0m\u001b[1;33m\u001b[0m\u001b[0m\n\u001b[1;32m---> 72\u001b[1;33m                 \u001b[0mcheck_site_shape\u001b[0m\u001b[1;33m(\u001b[0m\u001b[0msite\u001b[0m\u001b[1;33m,\u001b[0m \u001b[0mmax_plate_nesting\u001b[0m\u001b[1;33m)\u001b[0m\u001b[1;33m\u001b[0m\u001b[1;33m\u001b[0m\u001b[0m\n\u001b[0m\u001b[0;32m     73\u001b[0m \u001b[1;33m\u001b[0m\u001b[0m\n\u001b[0;32m     74\u001b[0m     \u001b[1;32mreturn\u001b[0m \u001b[0mmodel_trace\u001b[0m\u001b[1;33m,\u001b[0m \u001b[0mguide_trace\u001b[0m\u001b[1;33m\u001b[0m\u001b[1;33m\u001b[0m\u001b[0m\n",
      "\u001b[1;32m~\\miniconda3\\envs\\cpsc532w\\lib\\site-packages\\pyro\\util.py\u001b[0m in \u001b[0;36mcheck_site_shape\u001b[1;34m(site, max_plate_nesting)\u001b[0m\n\u001b[0;32m    413\u001b[0m     ):\n\u001b[0;32m    414\u001b[0m         \u001b[1;32mif\u001b[0m \u001b[0mexpected_size\u001b[0m \u001b[1;33m!=\u001b[0m \u001b[1;33m-\u001b[0m\u001b[1;36m1\u001b[0m \u001b[1;32mand\u001b[0m \u001b[0mexpected_size\u001b[0m \u001b[1;33m!=\u001b[0m \u001b[0mactual_size\u001b[0m\u001b[1;33m:\u001b[0m\u001b[1;33m\u001b[0m\u001b[1;33m\u001b[0m\u001b[0m\n\u001b[1;32m--> 415\u001b[1;33m             raise ValueError(\n\u001b[0m\u001b[0;32m    416\u001b[0m                 \"\\n  \".join(\n\u001b[0;32m    417\u001b[0m                     [\n",
      "\u001b[1;31mValueError\u001b[0m: at site \"locs\", invalid log_prob shape\n  Expected [], actual [5]\n  Try one of the following fixes:\n  - enclose the batched tensor in a with pyro.plate(...): context\n  - .to_event(...) the distribution being sampled\n  - .permute() data dimensions"
     ]
    }
   ],
   "source": [
    "alpha_mlp = MixtureMLP(T, M).float()  # variational parameters for mixture proportions pi\n",
    "tau_mlp = MixtureMLP(T*M, M, softmax=False).float() \n",
    "\n",
    "adam_params = {\"lr\": 0.005}\n",
    "optimizer = Adam(adam_params)\n",
    "svi = SVI(model, guide, optimizer, loss=Trace_ELBO())\n",
    "\n",
    "n_steps = 2500\n",
    "start = time.time()\n",
    "for step in range(n_steps):\n",
    "  svi.step(data)\n",
    "  pyro.get_param_store()\n",
    "  if step % 100 == 0:\n",
    "        end = time.time()\n",
    "        print_progress(step, data)\n",
    "        print('took', end-start, 'seconds')\n",
    "        start = time.time()"
   ]
  }
 ],
 "metadata": {
  "kernelspec": {
   "display_name": "cpsc532w",
   "language": "python",
   "name": "cpsc532w"
  },
  "language_info": {
   "codemirror_mode": {
    "name": "ipython",
    "version": 3
   },
   "file_extension": ".py",
   "mimetype": "text/x-python",
   "name": "python",
   "nbconvert_exporter": "python",
   "pygments_lexer": "ipython3",
   "version": "3.8.11"
  }
 },
 "nbformat": 4,
 "nbformat_minor": 5
}
