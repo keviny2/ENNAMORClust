{
 "cells": [
  {
   "cell_type": "markdown",
   "id": "positive-damage",
   "metadata": {},
   "source": [
    "## Resources \n",
    "- https://paperswithcode.com/sota/image-clustering-on-mnist-full"
   ]
  },
  {
   "cell_type": "code",
   "execution_count": 86,
   "id": "abstract-illinois",
   "metadata": {},
   "outputs": [],
   "source": [
    "import torch\n",
    "from sklearn.metrics import normalized_mutual_info_score\n",
    "import matplotlib.pyplot as plt"
   ]
  },
  {
   "cell_type": "code",
   "execution_count": 88,
   "id": "color-transfer",
   "metadata": {},
   "outputs": [],
   "source": [
    "model = torch.load('saved_models/pointnet/mnist_alpha_mlp_10.pth')\n",
    "\n",
    "assignments = model['assignments']\n",
    "labels = model['labels']\n",
    "data = model['images']"
   ]
  },
  {
   "cell_type": "code",
   "execution_count": 89,
   "id": "lined-marriage",
   "metadata": {},
   "outputs": [
    {
     "data": {
      "text/plain": [
       "0.04714151159228798"
      ]
     },
     "execution_count": 89,
     "metadata": {},
     "output_type": "execute_result"
    }
   ],
   "source": [
    "normalized_mutual_info_score(labels, assignments)"
   ]
  },
  {
   "cell_type": "code",
   "execution_count": 80,
   "id": "ahead-microphone",
   "metadata": {},
   "outputs": [],
   "source": [
    "def vectors_to_images(vectors):\n",
    "    return vectors.view(vectors.size(0), 1, 28, 28)"
   ]
  },
  {
   "cell_type": "code",
   "execution_count": null,
   "id": "developed-joint",
   "metadata": {},
   "outputs": [],
   "source": [
    "# for clust_idx in range(10):\n",
    "clust_idx = 3\n",
    "for i in range(len(assignments)):\n",
    "    if assignments[i] == clust_idx:\n",
    "        plt.figure()\n",
    "        plt.imshow(vectors_to_images(data[:,i,:]).squeeze(), cmap='gray')"
   ]
  }
 ],
 "metadata": {
  "kernelspec": {
   "display_name": "cpsc533y",
   "language": "python",
   "name": "cpsc533y"
  },
  "language_info": {
   "codemirror_mode": {
    "name": "ipython",
    "version": 3
   },
   "file_extension": ".py",
   "mimetype": "text/x-python",
   "name": "python",
   "nbconvert_exporter": "python",
   "pygments_lexer": "ipython3",
   "version": "3.7.10"
  }
 },
 "nbformat": 4,
 "nbformat_minor": 5
}
