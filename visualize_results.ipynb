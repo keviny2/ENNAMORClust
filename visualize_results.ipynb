{
 "cells": [
  {
   "cell_type": "markdown",
   "id": "female-casting",
   "metadata": {},
   "source": [
    "## Resources \n",
    "- https://paperswithcode.com/sota/image-clustering-on-mnist-full"
   ]
  },
  {
   "cell_type": "code",
   "execution_count": 177,
   "id": "honey-airline",
   "metadata": {},
   "outputs": [],
   "source": [
    "import torch\n",
    "from sklearn.metrics import normalized_mutual_info_score\n",
    "import matplotlib.pyplot as plt\n",
    "import numpy as np"
   ]
  },
  {
   "cell_type": "code",
   "execution_count": 178,
   "id": "fantastic-novelty",
   "metadata": {},
   "outputs": [],
   "source": [
    "model2 = torch.load('saved_models/equamnet/mnist_alpha_mlp_4.pth')\n",
    "model3 = torch.load('saved_models/equamnet/mnist_alpha_mlp_5.pth')\n",
    "model4 = torch.load('saved_models/equamnet/mnist_alpha_mlp_4.pth')\n",
    "model5 = torch.load('saved_models/equamnet/mnist_alpha_mlp_5.pth')\n",
    "model6 = torch.load('saved_models/equamnet/mnist_alpha_mlp_6.pth')\n",
    "model6_am = torch.load('saved_models/equamnet/mnist_alpha_mlp_6_am.pth')\n",
    "\n",
    "loss4 = model4['elbo_ests']\n",
    "loss5 = model5['elbo_ests']\n",
    "loss6 = model6['elbo_ests']"
   ]
  },
  {
   "cell_type": "code",
   "execution_count": 179,
   "id": "needed-cable",
   "metadata": {},
   "outputs": [],
   "source": [
    "def avg_plot(arr):\n",
    "    res = torch.empty(len(arr))\n",
    "    arr = torch.from_numpy(np.array(arr) * -1)\n",
    "\n",
    "    for i in range(len(arr)):\n",
    "        res[i] = torch.mean(arr[:i+1])\n",
    "\n",
    "    plt.figure()\n",
    "    plt.plot(res)\n",
    "\n",
    "def vectors_to_images(vectors):\n",
    "    return vectors.view(vectors.size(0), 1, 28, 28)"
   ]
  },
  {
   "cell_type": "code",
   "execution_count": 181,
   "id": "coupled-framing",
   "metadata": {},
   "outputs": [
    {
     "data": {
      "image/png": "[encoded data removed]",
      "text/plain": [
       "<Figure size 432x288 with 1 Axes>"
      ]
     },
     "metadata": {
      "needs_background": "light"
     },
     "output_type": "display_data"
    }
   ],
   "source": [
    "avg_plot(model6_am['elbo_ests'])"
   ]
  },
  {
   "cell_type": "code",
   "execution_count": 183,
   "id": "minor-general",
   "metadata": {},
   "outputs": [
    {
     "name": "stdout",
     "output_type": "stream",
     "text": [
      "normalized mutual info score 0.18882996448123698\n"
     ]
    }
   ],
   "source": [
    "assignments6 = model6_am['assignments']\n",
    "\n",
    "labels6 = model6_am['labels']\n",
    "\n",
    "print('normalized mutual info score', normalized_mutual_info_score(labels6, assignments6))"
   ]
  },
  {
   "cell_type": "code",
   "execution_count": null,
   "id": "promotional-license",
   "metadata": {},
   "outputs": [],
   "source": [
    "# for clust_idx in range(10):\n",
    "data = model6_am['images'].squeeze()\n",
    "clust_idx = 2\n",
    "for i in range(len(assignments6)):\n",
    "    if assignments6[i] == clust_idx:\n",
    "        plt.figure()\n",
    "        plt.imshow(data[i], cmap='gray')"
   ]
  },
  {
   "cell_type": "code",
   "execution_count": null,
   "id": "applicable-warrior",
   "metadata": {},
   "outputs": [],
   "source": [
    "def display_imgs(folder):\n",
    "    \"\"\"\n",
    "    render images in grid format \n",
    "    \n",
    "    folder: folder containing images to render\n",
    "    \"\"\"\n",
    "    # Define a useful function\n",
    "    def get_image(f_path):\n",
    "        '''\n",
    "        Returns the image from a path\n",
    "        '''\n",
    "        img_labs = ['jpg','png']\n",
    "        if any(x in img_labs for x in f_path.split('.')):\n",
    "            file = os.path.join(folder, f_path)\n",
    "            image = open(file, 'rb').read()\n",
    "            return image\n",
    "    \n",
    "    # Do the actual work here\n",
    "    files  = os.listdir(folder)\n",
    "    images = [get_image(x) for x in files]\n",
    "    children = [widgets.Image(value = img, format='png') for img in images if str(type(img)) != '<class \\'NoneType\\'>']\n",
    "    \n",
    "    nrows = math.ceil(math.sqrt(len(children)))\n",
    "    template = '50% ' * nrows\n",
    "\n",
    "    # Create the widget\n",
    "    grid = widgets.GridBox(children=children,\n",
    "                           layout=widgets.Layout(\n",
    "                               width='70%',\n",
    "                               grid_template_columns=template,\n",
    "                               grid_template_rows=template,\n",
    "                               grid_gap='18px 2px'\n",
    "                           )\n",
    "                          )\n",
    "    display(grid)"
   ]
  }
 ],
 "metadata": {
  "kernelspec": {
   "display_name": "cpsc533y",
   "language": "python",
   "name": "cpsc533y"
  },
  "language_info": {
   "codemirror_mode": {
    "name": "ipython",
    "version": 3
   },
   "file_extension": ".py",
   "mimetype": "text/x-python",
   "name": "python",
   "nbconvert_exporter": "python",
   "pygments_lexer": "ipython3",
   "version": "3.7.10"
  }
 },
 "nbformat": 4,
 "nbformat_minor": 5
}
