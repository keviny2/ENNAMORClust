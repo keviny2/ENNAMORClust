{
 "cells": [
  {
   "cell_type": "markdown",
   "id": "precise-anthony",
   "metadata": {},
   "source": [
    "## Notes\n",
    "- Thinking of making batch size large and just use the batch as the set of images to cluster\n",
    "- If want to go for variable dataset sizes, can just have an outer loop that will change the batch size but train the same model\n",
    "\n",
    "## Bugs\n",
    "\n",
    "## Combinations\n",
    "- {lr: 0.0001, N: 200, niter: 20, n_iter: 300} "
   ]
  },
  {
   "cell_type": "markdown",
   "id": "affected-company",
   "metadata": {},
   "source": [
    "### Import Packages"
   ]
  },
  {
   "cell_type": "code",
   "execution_count": 1,
   "id": "charitable-cloud",
   "metadata": {},
   "outputs": [],
   "source": [
    "from pointnet import PointNet\n",
    "from permnet import PermNet\n",
    "from convnet import ConvNet\n",
    "\n",
    "import numpy as np\n",
    "import time\n",
    "\n",
    "import pyro\n",
    "from pyro.distributions import *\n",
    "from pyro.infer import Predictive, SVI, Trace_ELBO\n",
    "from pyro.optim import Adam, AdamW\n",
    "from pyro.nn import PyroModule\n",
    "\n",
    "import torch\n",
    "import torch.nn as nn\n",
    "from torchvision import transforms, datasets\n",
    "\n",
    "import matplotlib.pyplot as plt\n",
    "%matplotlib inline\n",
    "\n",
    "from tabulate import tabulate"
   ]
  },
  {
   "cell_type": "markdown",
   "id": "personalized-maximum",
   "metadata": {},
   "source": [
    "### Load Data"
   ]
  },
  {
   "cell_type": "code",
   "execution_count": 2,
   "id": "hundred-patch",
   "metadata": {},
   "outputs": [],
   "source": [
    "# from https://medium.com/ai-society/gans-from-scratch-1-a-deep-introduction-with-code-in-pytorch-and-tensorflow-cb03cdcdba0f\n",
    "\n",
    "def mnist_data():\n",
    "    compose = transforms.Compose(\n",
    "        [transforms.ToTensor(),\n",
    "         transforms.Normalize((.5), (.5))\n",
    "        ])\n",
    "    out_dir = './data/mnist'\n",
    "    return datasets.MNIST(root=out_dir, train=True, transform=compose, download=True)\n",
    "\n",
    "def images_to_vectors(images):\n",
    "    return images.view(images.size(0), 784)\n",
    "\n",
    "def vectors_to_images(vectors):\n",
    "    return vectors.view(vectors.size(0), 1, 28, 28)"
   ]
  },
  {
   "cell_type": "code",
   "execution_count": 3,
   "id": "orange-attention",
   "metadata": {},
   "outputs": [
    {
     "name": "stderr",
     "output_type": "stream",
     "text": [
      "/opt/conda/lib/python3.7/site-packages/torchvision/datasets/mnist.py:498: UserWarning: The given NumPy array is not writeable, and PyTorch does not support non-writeable tensors. This means you can write to the underlying (supposedly non-writeable) NumPy array using the tensor. You may want to copy the array to protect its data or make it writeable before converting it to a tensor. This type of warning will be suppressed for the rest of this program. (Triggered internally at  ../torch/csrc/utils/tensor_numpy.cpp:189.)\n",
      "  return torch.from_numpy(parsed.astype(m[2], copy=False)).view(*s)\n"
     ]
    }
   ],
   "source": [
    "# Load data\n",
    "N = 100\n",
    "data = mnist_data()\n",
    "# Create loader with data, so that we can iterate over it\n",
    "data_loader = torch.utils.data.DataLoader(data, batch_size=N, shuffle=True)\n",
    "# Num batches\n",
    "num_batches = len(data_loader)"
   ]
  },
  {
   "cell_type": "markdown",
   "id": "treated-basin",
   "metadata": {},
   "source": [
    "### Pyro"
   ]
  },
  {
   "cell_type": "code",
   "execution_count": 4,
   "id": "enormous-virus",
   "metadata": {},
   "outputs": [],
   "source": [
    "def model(data, step, assignment_list):\n",
    "    # global variables\n",
    "    alpha = torch.ones(T)\n",
    "    weights = pyro.sample('weights', Dirichlet(alpha))\n",
    "    \n",
    "    with pyro.plate('components', T):\n",
    "        locs = pyro.sample('locs', MultivariateNormal(torch.zeros(M), torch.eye(M)))\n",
    "\n",
    "    # use PCA to reduce dimensionality so I can train faster\n",
    "    img_set = images_to_vectors(data.squeeze())\n",
    "    (U, S, V) = torch.pca_lowrank(img_set, q=None, center=True, niter=20)\n",
    "    z = torch.matmul(data, V[:, :100000])\n",
    "    # local variables\n",
    "    with pyro.plate('data', N):\n",
    "        assignment = pyro.sample('assignments', Categorical(weights))\n",
    "        pyro.sample('obs', MultivariateNormal(locs[assignment], torch.eye(M)), obs=z)\n",
    "        \n",
    "def guide(data, step, assignment_list):\n",
    "    # train nn if doing offline training\n",
    "    if not amortize:\n",
    "        pyro.module('alpha_mlp', alpha_mlp)\n",
    "        pyro.module('tau_mlp', tau_mlp)\n",
    "    \n",
    "    if use_gpu: \n",
    "        data = data.cuda()\n",
    "        \n",
    "    tau = tau_mlp(data.float())\n",
    "    tau = tau.view(T,M)\n",
    "\n",
    "    # sample mixture components mu\n",
    "    with pyro.plate('components', T):\n",
    "        locs = pyro.sample('locs', MultivariateNormal(tau, torch.eye(M)))\n",
    "    \n",
    "    # sample cluster assignments\n",
    "    alpha = alpha_mlp(data.float()) # returns a vector of length T\n",
    "    weights = pyro.sample('weights', Dirichlet(alpha))  # vector of length T\n",
    "    with pyro.plate('data', size=N):\n",
    "        assignments = pyro.sample('assignments', Categorical(weights))\n",
    "    \n",
    "    # logging\n",
    "    if step % log_iter == 0:\n",
    "        \n",
    "        print('='*10, 'Iteration {}'.format(step), '='*10)\n",
    "        assignment_list.append(assignments)\n",
    "        \n",
    "        weight_data = [weights.squeeze()[i] for i in range(len(weights.squeeze()))]\n",
    "        weight_data.insert(0, 'props')\n",
    "\n",
    "        pc1_data = [locs[i,0] for i in range(locs.shape[0])]\n",
    "        pc1_data.insert(0, 'pc1')\n",
    "\n",
    "        pc2_data = [locs[i,1] for i in range(locs.shape[0])]\n",
    "        pc2_data.insert(0, 'pc2')\n",
    "        \n",
    "        pc3_data = [locs[i,2] for i in range(locs.shape[0])]\n",
    "        pc3_data.insert(0, 'pc3')\n",
    "        \n",
    "        pc4_data = [locs[i,3] for i in range(locs.shape[0])]\n",
    "        pc4_data.insert(0, 'pc4')\n",
    "        \n",
    "        pc5_data = [locs[i,4] for i in range(locs.shape[0])]\n",
    "        pc5_data.insert(0, 'pc5')\n",
    "        \n",
    "        pc6_data = [locs[i,5] for i in range(locs.shape[0])]\n",
    "        pc6_data.insert(0, 'pc6')\n",
    "        \n",
    "        \n",
    "        data = [weight_data, pc1_data, pc2_data, pc3_data, pc4_data, pc5_data, pc6_data]\n",
    "        \n",
    "        print(tabulate(data, headers=['', 'clust1', 'clust2', 'clust3', 'clust4', 'clust5', 'clust6', 'clust7', 'clust8', 'clust9', 'clust10']))"
   ]
  },
  {
   "cell_type": "markdown",
   "id": "electoral-reading",
   "metadata": {},
   "source": [
    "### Initialization"
   ]
  },
  {
   "cell_type": "code",
   "execution_count": 5,
   "id": "extraordinary-dress",
   "metadata": {},
   "outputs": [
    {
     "name": "stdout",
     "output_type": "stream",
     "text": [
      "not using GPU!\n"
     ]
    },
    {
     "name": "stderr",
     "output_type": "stream",
     "text": [
      "/home/kyang/.local/lib/python3.7/site-packages/torch/cuda/__init__.py:80: UserWarning: CUDA initialization: The NVIDIA driver on your system is too old (found version 10010). Please update your GPU driver by downloading and installing a new version from the URL: http://www.nvidia.com/Download/index.aspx Alternatively, go to: https://pytorch.org to install a PyTorch version that has been compiled with your version of the CUDA driver. (Triggered internally at  ../c10/cuda/CUDAFunctions.cpp:112.)\n",
      "  return torch._C._cuda_getDeviceCount() > 0\n"
     ]
    }
   ],
   "source": [
    "T = 10  # num components\n",
    "M = 6  # how many features after pca\n",
    "\n",
    "mlp_type = 'permnet'\n",
    "amortize = False\n",
    "\n",
    "if mlp_type == 'pointnet':\n",
    "    alpha_mlp = PointNet(in_ch=784, output_size=T).float() \n",
    "    tau_mlp = PointNet(in_ch=784, output_size=T*M, softmax=False).float()\n",
    "if mlp_type == 'permnet':\n",
    "    alpha_mlp = PermNet(in_ch=784, hidden=2048, output_size=T).float()\n",
    "    tau_mlp = PermNet(in_ch=784, hidden=2048, output_size=T*M).float()\n",
    "if mlp_type == 'convnet':\n",
    "    alpha_mlp = PermNet(in_ch=784, hidden=2048, output_size=T).float()\n",
    "    tau_mlp = PermNet(in_ch=784, hidden=2048, output_size=T*M).float()\n",
    "    \n",
    "    \n",
    "if amortize:\n",
    "    saved_alpha_mlp = torch.load('saved_models/{}/mnist_alpha_mlp.pth'.format(mlp_type))\n",
    "    saved_tau_mlp = torch.load('saved_models/{}/mnist_tau_mlp.pth'.format(mlp_type))\n",
    "    \n",
    "    alpha_mlp.load_state_dict(saved_alpha_mlp['model_state_dict'])\n",
    "    tau_mlp.load_state_dict(saved_tau_mlp['model_state_dict'])\n",
    "\n",
    "adam_params = {\"lr\": 0.001}\n",
    "optimizer = Adam(adam_params)\n",
    "svi = SVI(model, guide, optimizer, loss=Trace_ELBO())\n",
    "\n",
    "use_gpu = torch.cuda.is_available()\n",
    "if use_gpu:\n",
    "    print('using GPU!')\n",
    "    alpha_mlp = alpha_mlp.cuda()\n",
    "    tau_mlp = tau_mlp.cuda()\n",
    "else:\n",
    "    print('not using GPU!')"
   ]
  },
  {
   "cell_type": "markdown",
   "id": "approximate-provision",
   "metadata": {
    "tags": []
   },
   "source": [
    "### Training"
   ]
  },
  {
   "cell_type": "code",
   "execution_count": 6,
   "id": "destroyed-geography",
   "metadata": {},
   "outputs": [
    {
     "name": "stdout",
     "output_type": "stream",
     "text": [
      "========== Iteration 0 ==========\n",
      "          clust1     clust2    clust3     clust4    clust5     clust6    clust7    clust8     clust9    clust10\n",
      "-----  ---------  ---------  --------  ---------  --------  ---------  --------  --------  ---------  ---------\n",
      "props  0.0442778  0.0603628  0.166638  0.102536   0.217374  0.0622171  0.144449   0.08296  0.0919524  0.0272327\n",
      "pc1    1.8832     1.11181    2.74717   0.0586843  2.73093   2.54872    1.88135    2.86001  3.08807    2.09431\n",
      "pc2    1.37469    1.60678    2.19992   0.612501   0.731682  3.67651    1.54726    2.73449  1.42966    1.99698\n",
      "pc3    1.06371    0.299102   3.01446   2.32416    0.943785  1.76877    0.771072   2.37687  1.58599    1.12824\n",
      "pc4    2.24156    0.269611   1.4902    2.2714     1.18521   2.28073    1.47876    2.29922  1.83326    1.33752\n",
      "pc5    1.95029    2.4        3.6372    2.76903    3.42569   1.18454    1.82023    1.63182  3.082      2.4532\n",
      "pc6    2.1267     1.26308    1.75623   2.43352    4.29898   2.18284    1.34604    1.17678  1.44776    3.95771\n",
      "took 12.385591268539429 seconds\n",
      "========== Iteration 100 ==========\n",
      "         clust1      clust2      clust3       clust4       clust5       clust6       clust7       clust8      clust9      clust10\n",
      "-----  --------  ----------  ----------  -----------  -----------  -----------  -----------  -----------  ----------  -----------\n",
      "props  0.891135   0.0365249   0.0141981   0.00211656   0.00159414   0.00661999   0.00865857   0.00721298   0.0235782   0.00836189\n",
      "pc1    4.29156    3.02689     3.46288     0.749267     1.36382     -0.236535     1.40183      1.54693      2.4332      2.40991\n",
      "pc2    5.5912     4.70591     1.09711     0.314477     1.72524      2.32164      3.15477     -0.605743     0.581052    1.48518\n",
      "pc3    0.590679  -0.910031    1.13877     1.47769     -1.13731      0.976653     0.620334     1.20551     -1.28488    -0.0164817\n",
      "pc4    0.783437  -0.81507     0.505977    1.57618      1.14881     -1.94601     -0.959419     1.99209     -0.268356   -0.165438\n",
      "pc5    3.49249    0.967662    2.4184      0.472576     0.642699     0.434807     2.0314       0.992473     1.68729     0.220316\n",
      "pc6    2.63176    0.956395   -1.29972    -0.993116     1.75612      0.37641     -0.680053    -0.145802     0.800862   -0.28521\n",
      "took 1616.2999396324158 seconds\n",
      "========== Iteration 200 ==========\n",
      "          clust1      clust2      clust3      clust4       clust5       clust6      clust7       clust8      clust9     clust10\n",
      "-----  ---------  ----------  ----------  ----------  -----------  -----------  ----------  -----------  ----------  ----------\n",
      "props   0.898499   0.0264471   0.0281387  0.00358528   0.00882574   0.00675815  0.00812772   0.00234063  0.00920503  0.00807222\n",
      "pc1     1.30446    3.12101     1.90559    2.89615      1.80139      1.71657     1.25879      1.91265     2.65301     3.3858\n",
      "pc2     5.90899    2.5334      3.00643    1.9568       1.68533      1.02317     2.27568      3.10207     4.43751     2.73444\n",
      "pc3     0.479753   1.33651    -0.276645   0.969102     0.80966     -0.794374    1.26418     -0.169326    2.23585     0.362887\n",
      "pc4    -0.804567   2.40181     1.3852     1.04813     -0.300685     1.10864     0.536431     0.380888    1.66295     1.46105\n",
      "pc5     1.09829   -0.0343707   1.18953    0.501648     1.52503      0.778211    1.15536      1.61864     1.74304     1.7529\n",
      "pc6     0.935891   0.321942    0.354303   0.727759    -0.876839    -1.39855     1.28773      0.649324    1.36777     0.697286\n",
      "took 1232.0059430599213 seconds\n",
      "========== Iteration 300 ==========\n",
      "           clust1     clust2      clust3      clust4      clust5       clust6       clust7       clust8       clust9      clust10\n",
      "-----  ----------  ---------  ----------  ----------  ----------  -----------  -----------  -----------  -----------  -----------\n",
      "props   0.936898    0.019756   0.0103676   0.0040436   0.0057496   0.00347784   0.00557955   0.00147485   0.00857154   0.00408138\n",
      "pc1     4.19831     2.93257    1.63103     1.12741     0.370617    1.52627      1.833        0.842019     1.31783      2.21508\n",
      "pc2     5.63217     3.92669    0.874765    0.0236509   2.33117    -0.989998     2.73432      2.52989      1.53565      3.73539\n",
      "pc3    -0.971548   -1.23392    0.71        0.22346     0.716334    1.26526      0.0654593   -1.47605     -0.339857    -0.367376\n",
      "pc4     2.09125     0.927418  -0.562901    0.149164    0.528315   -0.62838      0.417238    -1.06363     -1.0946       4.96667\n",
      "pc5     0.615805    1.51468    1.38664     1.00282    -0.174587   -0.233081    -1.1747       1.24295      0.0952731    0.295242\n",
      "pc6    -0.0353054  -1.21674   -0.737457   -1.24615    -0.936589   -0.256574     0.0244742    1.29761      0.156166    -0.185918\n",
      "took 1226.161791086197 seconds\n",
      "========== Iteration 400 ==========\n",
      "           clust1      clust2       clust3       clust4     clust5       clust6       clust7       clust8      clust9      clust10\n",
      "-----  ----------  ----------  -----------  -----------  ---------  -----------  -----------  -----------  ----------  -----------\n",
      "props   0.933614    0.0286749   0.00914997   0.00435584  0.0101606   0.00212769   0.00390672   0.00279531   0.0013889   0.00382572\n",
      "pc1     0.741822    3.76779     1.97346      0.538035    4.09852     0.281643     1.72247     -1.62479      2.96287     1.42884\n",
      "pc2     5.75292     4.33939     4.61912      1.67722     1.48649    -0.750647     3.57881      0.505519     0.208136    0.792904\n",
      "pc3     1.13178    -1.08436    -0.135734    -1.03075     2.266      -0.472704    -1.09559      0.0808631    0.0425212  -1.39061\n",
      "pc4     0.489341   -0.03734     2.77258     -0.192602    1.45622     0.771342     1.76237     -0.527085    -0.927049   -0.417879\n",
      "pc5     2.10968     0.17739     2.04845      1.59789     1.47219     0.735047     1.83297      1.85576      0.88375     1.35127\n",
      "pc6    -0.0390051  -0.15484    -2.05435      0.861349    1.18964    -1.39856      0.804801    -0.485615    -0.274367   -0.779018\n",
      "took 1232.4515883922577 seconds\n"
     ]
    },
    {
     "data": {
      "image/png": "[encoded data removed]",
      "text/plain": [
       "<Figure size 432x288 with 1 Axes>"
      ]
     },
     "metadata": {
      "needs_background": "light"
     },
     "output_type": "display_data"
    }
   ],
   "source": [
    "dry = False\n",
    "log_iter = 100\n",
    "\n",
    "for n_batch, (real_batch, labels) in enumerate(data_loader):\n",
    "    data = images_to_vectors(real_batch).unsqueeze(0)\n",
    "    assignment_list = []\n",
    "    elbo_ests = []\n",
    "    n_steps = 500\n",
    "    start = time.time()\n",
    "\n",
    "    for step in range(n_steps):\n",
    "        elbo_est = svi.step(data, step, assignment_list)\n",
    "        elbo_ests.append(elbo_est)\n",
    "        if step % log_iter == 0:\n",
    "            end = time.time()\n",
    "            print('took', end-start, 'seconds')\n",
    "            start = time.time()\n",
    "\n",
    "    if not dry:\n",
    "        torch.save({'model_state_dict': alpha_mlp.state_dict(),\n",
    "                    'assignments': assignment_list[-1],\n",
    "                    'elbo_ests': elbo_ests,\n",
    "                    'steps': n_steps,\n",
    "                    'images': data,\n",
    "                    'labels': labels\n",
    "                   }, 'saved_models/{0}/mnist_alpha_mlp_{1}.pth'.format(mlp_type, n_steps))\n",
    "\n",
    "        torch.save({'model_state_dict': tau_mlp.state_dict(),\n",
    "                    'assignments': assignment_list[-1],\n",
    "                    'elbo_ests': elbo_ests,\n",
    "                    'steps': n_steps,\n",
    "                    'images': data,\n",
    "                    'labels': labels\n",
    "                   }, 'saved_models/{0}/mnist_tau_mlp_{1}.pth'.format(mlp_type, n_steps))\n",
    "\n",
    "    plt.plot(np.array(elbo_ests))\n",
    "    plt.title('ELBO Plot')\n",
    "    plt.xlabel('Iterations')\n",
    "    plt.ylabel('ELBO')\n",
    "    plt.savefig('figs/elbo_plot_mnist_{0}_{1}.png'.format(mlp_type, n_steps))\n",
    "    break\n"
   ]
  }
 ],
 "metadata": {
  "kernelspec": {
   "display_name": "cpsc533y",
   "language": "python",
   "name": "cpsc533y"
  },
  "language_info": {
   "codemirror_mode": {
    "name": "ipython",
    "version": 3
   },
   "file_extension": ".py",
   "mimetype": "text/x-python",
   "name": "python",
   "nbconvert_exporter": "python",
   "pygments_lexer": "ipython3",
   "version": "3.7.10"
  }
 },
 "nbformat": 4,
 "nbformat_minor": 5
}
