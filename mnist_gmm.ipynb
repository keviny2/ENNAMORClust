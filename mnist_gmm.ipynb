{
 "cells": [
  {
   "cell_type": "markdown",
   "id": "injured-cologne",
   "metadata": {},
   "source": [
    "## Notes\n",
    "- Thinking of making batch size large and just use the batch as the set of images to cluster\n",
    "- If want to go for variable dataset sizes, can just have an outer loop that will change the batch size but train the same model\n",
    "\n",
    "## Bugs\n",
    "\n",
    "## Combinations\n",
    "- loss: ~8000 {lr: 0.001, weight_decay: 0.01,  N: 100, n_iter: 2000, dropout: 0.3, leakyrelu: 0.2, hidden: 128, num_networks: 3, num_layers=3, optim: adam} [2]\n",
    "- loss: ~8000 {lr: 0.001, weight_decay: 0.01,  N: 100, n_iter: 500, dropout: 0.3, leakyrelu: 0.2, hidden: 256, num_networks: 3, num_layers=3, optim: adamw} [3]\n",
    "    - initial_convs in VarPermNet is after the inner network\n",
    "- loss: ~6000 {lr: 0.001, weight_decay: 0.01,  N: 100, n_iter: 5000, dropout: 0.3, leakyrelu: 0.2, hidden: 64, num_networks {alpha, tau}: {4, 2}, num_layers {alpha, tau} = {4, 2}, optim: adamw} [4]    \n",
    "    - initial_convs in VarPermNet is after the inner network\n",
    "- loss: ~6000 {lr: 0.001, weight_decay: 0.01, N: 100, n_iter: 2500, dropout: 0.3, leakyrelu: 0.2, hidden: 128, num_networks {alpha, tau}: {6, 2}, num_layers {alpha, tau} = {3, 2}, optim: adamw} [5]\n",
    "- loss: ~6500 {lr: 0.01, weight_decay: 0.01, N: 100, n_iter: 3001, dropout: 0.3, leakyrelu: 0.2, hidden: 32, num_networks {alpha, tau}: {4, 4}, num_layers {alpha, tau} = {4, 4}, optim: clippedadam} [6]"
   ]
  },
  {
   "cell_type": "code",
   "execution_count": 1,
   "id": "competitive-yellow",
   "metadata": {},
   "outputs": [],
   "source": [
    "hyperparameter_comb = 6"
   ]
  },
  {
   "cell_type": "markdown",
   "id": "falling-sunglasses",
   "metadata": {},
   "source": [
    "### Import Packages"
   ]
  },
  {
   "cell_type": "code",
   "execution_count": 2,
   "id": "reduced-pollution",
   "metadata": {},
   "outputs": [],
   "source": [
    "from pointnet import PointNet\n",
    "from permnet import PermNet\n",
    "from convnet import ConvNet\n",
    "from EquAmClust import EquAmNet\n",
    "\n",
    "import numpy as np\n",
    "import time\n",
    "\n",
    "import pyro\n",
    "from pyro.distributions import *\n",
    "from pyro.infer import Predictive, SVI, Trace_ELBO\n",
    "from pyro.optim import Adam, AdamW, ClippedAdam\n",
    "from pyro.nn import PyroModule\n",
    "\n",
    "import torch\n",
    "import torch.nn as nn\n",
    "from torchvision import transforms, datasets\n",
    "\n",
    "import matplotlib.pyplot as plt\n",
    "%matplotlib inline\n",
    "\n",
    "from tabulate import tabulate"
   ]
  },
  {
   "cell_type": "markdown",
   "id": "objective-shopping",
   "metadata": {},
   "source": [
    "### Load Data"
   ]
  },
  {
   "cell_type": "code",
   "execution_count": 3,
   "id": "native-equilibrium",
   "metadata": {},
   "outputs": [
    {
     "name": "stderr",
     "output_type": "stream",
     "text": [
      "/opt/conda/lib/python3.7/site-packages/torchvision/datasets/mnist.py:498: UserWarning: The given NumPy array is not writeable, and PyTorch does not support non-writeable tensors. This means you can write to the underlying (supposedly non-writeable) NumPy array using the tensor. You may want to copy the array to protect its data or make it writeable before converting it to a tensor. This type of warning will be suppressed for the rest of this program. (Triggered internally at  ../torch/csrc/utils/tensor_numpy.cpp:189.)\n",
      "  return torch.from_numpy(parsed.astype(m[2], copy=False)).view(*s)\n"
     ]
    }
   ],
   "source": [
    "# from https://medium.com/ai-society/gans-from-scratch-1-a-deep-introduction-with-code-in-pytorch-and-tensorflow-cb03cdcdba0f\n",
    "\n",
    "def mnist_data():\n",
    "    compose = transforms.Compose(\n",
    "        [transforms.ToTensor(),\n",
    "         transforms.Normalize((.5), (.5))\n",
    "        ])\n",
    "    out_dir = './data/mnist'\n",
    "    return datasets.MNIST(root=out_dir, train=True, transform=compose, download=True)\n",
    "\n",
    "def images_to_vectors(images):\n",
    "    return images.view(images.size(0), 784)\n",
    "\n",
    "def vectors_to_images(vectors):\n",
    "    return vectors.view(vectors.size(0), 1, 28, 28)\n",
    "\n",
    "# Load data\n",
    "N = 100\n",
    "data = mnist_data()\n",
    "# Create loader with data, so that we can iterate over it\n",
    "data_loader = torch.utils.data.DataLoader(data, batch_size=N, shuffle=True)\n",
    "# Num batches\n",
    "num_batches = len(data_loader)"
   ]
  },
  {
   "cell_type": "markdown",
   "id": "interim-investing",
   "metadata": {},
   "source": [
    "### Pyro"
   ]
  },
  {
   "cell_type": "code",
   "execution_count": 4,
   "id": "approximate-density",
   "metadata": {},
   "outputs": [],
   "source": [
    "def model(data, step, assignment_list):\n",
    "    # global variables\n",
    "    alpha = torch.ones(T)\n",
    "    weights = pyro.sample('weights', Dirichlet(alpha))\n",
    "    \n",
    "    with pyro.plate('components', T):\n",
    "        locs = pyro.sample('locs', MultivariateNormal(torch.zeros(M), torch.eye(M)))\n",
    "\n",
    "    # local variables\n",
    "#     with pyro.plate('data', size=N, subsample_size=int(N/5)) as ind:\n",
    "#         assignments = pyro.sample('assignments', Categorical(weights))\n",
    "#         pyro.sample('obs',\n",
    "#                     MultivariateNormal(locs[assignments], torch.eye(M)),\n",
    "#                     obs=data.index_select(1, ind))  # dim-1 b/c dim-0 is batch\n",
    "    with pyro.plate('data', size=N):\n",
    "        assignments = pyro.sample('assignments', Categorical(weights))\n",
    "        pyro.sample('obs',\n",
    "                    MultivariateNormal(locs[assignments], torch.eye(M)),\n",
    "                    obs=data)  # dim-1 b/c dim-0 is batch\n",
    "        \n",
    "def guide(data, step, assignment_list):\n",
    "    # train nn if doing offline training\n",
    "    if not amortize:\n",
    "        pyro.module('alpha_mlp', alpha_mlp)\n",
    "        pyro.module('tau_mlp', tau_mlp)\n",
    "    \n",
    "    if use_gpu: \n",
    "        data = data.cuda()\n",
    "        \n",
    "    tau = tau_mlp(data.float())\n",
    "    tau = tau.view(T,M)\n",
    "\n",
    "    # sample mixture components mu\n",
    "    with pyro.plate('components', T):\n",
    "        locs = pyro.sample('locs', MultivariateNormal(tau, torch.eye(M)))\n",
    "    \n",
    "    # sample cluster assignments\n",
    "    alpha = alpha_mlp(data.float()) # returns a vector of length T\n",
    "    weights = pyro.sample('weights', Dirichlet(alpha))  # vector of length T\n",
    "    \n",
    "#     with pyro.plate('data', size=N, subsample_size=int(N/5)) as ind:\n",
    "#         assignments = pyro.sample('assignments', Categorical(weights))\n",
    "    with pyro.plate('data', size=N):\n",
    "        assignments = pyro.sample('assignments', Categorical(weights))\n",
    "    \n",
    "    # logging\n",
    "    if step % log_iter == 0:\n",
    "        \n",
    "        print('='*10, 'Iteration {}'.format(step), '='*10)\n",
    "        assignment_list.append(assignments)\n",
    "        \n",
    "        weight_data = [weights.squeeze()[i] for i in range(len(weights.squeeze()))]\n",
    "        weight_data.insert(0, 'props')\n",
    "        \n",
    "        data = [weight_data]\n",
    "        print(tabulate(data, headers=['', 'clust1', 'clust2', 'clust3', 'clust4', 'clust5', 'clust6', 'clust7', 'clust8', 'clust9', 'clust10']))        "
   ]
  },
  {
   "cell_type": "markdown",
   "id": "economic-prison",
   "metadata": {},
   "source": [
    "### Initialization"
   ]
  },
  {
   "cell_type": "code",
   "execution_count": 5,
   "id": "funded-vaccine",
   "metadata": {},
   "outputs": [
    {
     "name": "stdout",
     "output_type": "stream",
     "text": [
      "not using GPU!\n"
     ]
    },
    {
     "name": "stderr",
     "output_type": "stream",
     "text": [
      "/home/kyang/.local/lib/python3.7/site-packages/torch/cuda/__init__.py:80: UserWarning: CUDA initialization: The NVIDIA driver on your system is too old (found version 10010). Please update your GPU driver by downloading and installing a new version from the URL: http://www.nvidia.com/Download/index.aspx Alternatively, go to: https://pytorch.org to install a PyTorch version that has been compiled with your version of the CUDA driver. (Triggered internally at  ../c10/cuda/CUDAFunctions.cpp:112.)\n",
      "  return torch._C._cuda_getDeviceCount() > 0\n"
     ]
    }
   ],
   "source": [
    "T = 10  # num components\n",
    "M = 6  # how many features after pca\n",
    "# M = 50  # how many features in embedded space for vae encoder (ex: mu.shape=2, log_var.shape=2; 2*2=4)\n",
    "\n",
    "mlp_type = 'equamnet'\n",
    "amortize = False\n",
    "if mlp_type == 'pointnet':\n",
    "    alpha_mlp = PointNet(in_ch=784, output_size=T).float() \n",
    "    tau_mlp = PointNet(in_ch=784, output_size=T*M, softmax=False).float()\n",
    "if mlp_type == 'permnet':\n",
    "    alpha_mlp = PermNet(in_ch=M, hidden=128, output_size=T).float()\n",
    "    tau_mlp = PermNet(in_ch=M, hidden=128, output_size=T*M).float()\n",
    "if mlp_type == 'convnet':\n",
    "    alpha_mlp = PermNet(in_ch=784, hidden=2048, output_size=T).float()\n",
    "    tau_mlp = PermNet(in_ch=784, hidden=2048, output_size=T*M).float()\n",
    "if mlp_type == 'equamnet':\n",
    "    alpha_mlp = EquAmNet(in_ch=M,\n",
    "                         hidden=32,\n",
    "                         output_size=T,\n",
    "                         num_networks=4,\n",
    "                         num_layers=4).float()\n",
    "    tau_mlp = EquAmNet(in_ch=M,\n",
    "                       hidden=32,\n",
    "                       output_size=T*M,\n",
    "                       num_networks=4,\n",
    "                       num_layers=4).float()\n",
    "    \n",
    "    \n",
    "if amortize:\n",
    "    saved_alpha_mlp = torch.load('saved_models/{}/mnist_alpha_mlp.pth'.format(mlp_type))\n",
    "    saved_tau_mlp = torch.load('saved_models/{}/mnist_tau_mlp.pth'.format(mlp_type))\n",
    "    \n",
    "    alpha_mlp.load_state_dict(saved_alpha_mlp['model_state_dict'])\n",
    "    tau_mlp.load_state_dict(saved_tau_mlp['model_state_dict'])\n",
    "\n",
    "adam_params = {\"lr\": 0.001, \"weight_decay\": 0.01}\n",
    "optimizer = ClippedAdam(adam_params)\n",
    "svi = SVI(model, guide, optimizer, loss=Trace_ELBO())\n",
    "\n",
    "use_gpu = torch.cuda.is_available()\n",
    "if use_gpu:\n",
    "    print('using GPU!')\n",
    "    alpha_mlp = alpha_mlp.cuda()\n",
    "    tau_mlp = tau_mlp.cuda()\n",
    "else:\n",
    "    print('not using GPU!')"
   ]
  },
  {
   "cell_type": "markdown",
   "id": "impossible-salon",
   "metadata": {
    "tags": []
   },
   "source": [
    "### Training"
   ]
  },
  {
   "cell_type": "code",
   "execution_count": 6,
   "id": "armed-scott",
   "metadata": {},
   "outputs": [
    {
     "name": "stdout",
     "output_type": "stream",
     "text": [
      "========== Iteration 0 ==========\n",
      "          clust1    clust2    clust3    clust4     clust5     clust6    clust7     clust8    clust9    clust10\n",
      "-----  ---------  --------  --------  --------  ---------  ---------  --------  ---------  --------  ---------\n",
      "props  0.0679782  0.145197  0.030662  0.101179  0.0600536  0.0811151   0.11583  0.0689717  0.147934   0.181079\n",
      "Took 0.6742672920227051 seconds           loss: 8344.37477684021\n",
      "========== Iteration 1000 ==========\n",
      "         clust1    clust2    clust3    clust4    clust5    clust6     clust7     clust8     clust9    clust10\n",
      "-----  --------  --------  --------  --------  --------  --------  ---------  ---------  ---------  ---------\n",
      "props  0.140993  0.136036  0.108543  0.100496  0.105917  0.116864  0.0823521  0.0763751  0.0743864   0.058036\n",
      "Took 420.903439283371 seconds           loss: 6504.4437437057495\n",
      "========== Iteration 2000 ==========\n",
      "         clust1    clust2     clust3    clust4    clust5     clust6    clust7     clust8     clust9    clust10\n",
      "-----  --------  --------  ---------  --------  --------  ---------  --------  ---------  ---------  ---------\n",
      "props    0.1285  0.026621  0.0343219  0.128501  0.189464  0.0436343  0.140745  0.0895219  0.0903806    0.12831\n",
      "Took 393.9889256954193 seconds           loss: 6573.53241443634\n",
      "========== Iteration 3000 ==========\n",
      "         clust1     clust2    clust3     clust4    clust5    clust6    clust7    clust8    clust9    clust10\n",
      "-----  --------  ---------  --------  ---------  --------  --------  --------  --------  --------  ---------\n",
      "props  0.121886  0.0383378  0.091011  0.0932136  0.151936  0.042774  0.111424  0.100007  0.136309   0.113102\n",
      "Took 386.2587945461273 seconds           loss: 6478.243056297302\n"
     ]
    },
    {
     "data": {
      "image/png": "[encoded data removed]",
      "text/plain": [
       "<Figure size 432x288 with 1 Axes>"
      ]
     },
     "metadata": {
      "needs_background": "light"
     },
     "output_type": "display_data"
    }
   ],
   "source": [
    "dry = False\n",
    "log_iter = 1000\n",
    "\n",
    "for n_batch, (real_batch, labels) in enumerate(data_loader):\n",
    "    \n",
    "    # use PCA to reduce dimensionality so I can train faster\n",
    "    data = images_to_vectors(real_batch).unsqueeze(0)\n",
    "    (U, S, V) = torch.pca_lowrank(data, q=None, center=True, niter=20)\n",
    "    data = torch.matmul(data, V[:, :100000])\n",
    "    \n",
    "    assignment_list = []\n",
    "    elbo_ests = []\n",
    "    n_steps = 3001\n",
    "    \n",
    "    global_start = time.time()\n",
    "    start = time.time()\n",
    "\n",
    "    for step in range(n_steps):\n",
    "        elbo_est = svi.step(data, step, assignment_list)\n",
    "        elbo_ests.append(elbo_est)\n",
    "        if step % log_iter == 0:\n",
    "            end = time.time()\n",
    "            print('Took', end-start, 'seconds           loss:', elbo_est)\n",
    "            start = time.time()\n",
    "\n",
    "    # save models if not dry run\n",
    "    if not dry:\n",
    "        global_end = time.time()\n",
    "        torch.save({'model_state_dict': alpha_mlp.state_dict(),\n",
    "                    'assignments': assignment_list[-1],\n",
    "                    'elbo_ests': elbo_ests,\n",
    "                    'steps': n_steps,\n",
    "                    'images': data,\n",
    "                    'labels': labels,\n",
    "                    'runtime': global_end-global_start\n",
    "                   }, 'saved_models/{0}/mnist_alpha_mlp_{1}.pth'.format(mlp_type, hyperparameter_comb))\n",
    "\n",
    "        torch.save({'model_state_dict': tau_mlp.state_dict(),\n",
    "                    'assignments': assignment_list[-1],\n",
    "                    'elbo_ests': elbo_ests,\n",
    "                    'steps': n_steps,\n",
    "                    'images': data,\n",
    "                    'labels': labels,\n",
    "                    'runtime': global_end-global_start\n",
    "                   }, 'saved_models/{0}/mnist_tau_mlp_{1}.pth'.format(mlp_type, hyperparameter_comb))\n",
    "\n",
    "    plt.plot(np.array(elbo_ests))\n",
    "    plt.title('ELBO Plot')\n",
    "    plt.xlabel('Iterations')\n",
    "    plt.ylabel('ELBO')\n",
    "    plt.savefig('figs/elbo_plot_mnist_{0}_{1}.png'.format(mlp_type, hyperparameter_comb))\n",
    "    break\n"
   ]
  },
  {
   "cell_type": "code",
   "execution_count": null,
   "id": "strong-optimization",
   "metadata": {},
   "outputs": [],
   "source": []
  }
 ],
 "metadata": {
  "kernelspec": {
   "display_name": "cpsc533y",
   "language": "python",
   "name": "cpsc533y"
  },
  "language_info": {
   "codemirror_mode": {
    "name": "ipython",
    "version": 3
   },
   "file_extension": ".py",
   "mimetype": "text/x-python",
   "name": "python",
   "nbconvert_exporter": "python",
   "pygments_lexer": "ipython3",
   "version": "3.7.10"
  }
 },
 "nbformat": 4,
 "nbformat_minor": 5
}
